{
  "nbformat": 4,
  "nbformat_minor": 0,
  "metadata": {
    "colab": {
      "provenance": [],
      "collapsed_sections": []
    },
    "kernelspec": {
      "name": "python3",
      "display_name": "Python 3"
    },
    "language_info": {
      "name": "python"
    }
  },
  "cells": [
    {
      "cell_type": "markdown",
      "source": [
        "https://seaborn.pydata.org/examples/index.html"
      ],
      "metadata": {
        "id": "7f0MxpWMQiXD"
      }
    },
    {
      "cell_type": "markdown",
      "source": [
        "# SEABORN TABLOLARI VE ÖRNEKLER"
      ],
      "metadata": {
        "id": "zxZHO2r8QmkF"
      }
    }
  ]
}